{
 "cells": [
  {
   "cell_type": "markdown",
   "source": [
    "# Tarefa 1\n",
    "Faça um programa que solicite à pessoa usuária digitar dois números float e calcular a divisão entre esses números. O código deve conter um tratamento de erro, indicando o tipo de erro que foi gerado caso a divisão não seja possível de realizar.\n",
    "\n",
    "Teste o programa com o segundo valor numérico do input igual a 0. Também teste utilizando caracteres textuais no input para checar os tipos de erro que ocorrem."
   ],
   "metadata": {
    "collapsed": false
   },
   "id": "8650adfb0da50d64"
  },
  {
   "cell_type": "code",
   "execution_count": null,
   "outputs": [],
   "source": [
    "try:\n",
    "    num1 = float(input(\"Digite o primeiro numero: \"))\n",
    "    num2 = float(input(\"Digite o segundo numero: \"))\n",
    "except Exception as e:\n",
    "    print(\"Digite apenas numeros\") \n",
    "else:\n",
    "    if num2 == 0:\n",
    "        raise ValueError(\"Nao é possivel fazer divisao por 0\")\n",
    "    print(f'{num1}/{num2} = ',num1/num2)\n",
    "finally:\n",
    "    print(\"Programa terminado\")\n"
   ],
   "metadata": {
    "collapsed": false
   },
   "id": "287f6abe23e4cb21"
  },
  {
   "cell_type": "markdown",
   "source": [
    "# Tarefa 2\n",
    "Faça um programa que solicite à pessoa usuária digitar um texto que será uma chave a ser pesquisada no seguinte dicionário: idades = {'Júlia': 16, 'Carol': 23, 'Alberto': 19, 'Roberta': 17}, armazenando o resultado do valor em uma variável. O código deve conter um tratamento de erro KeyError, imprimindo a informação 'Nome não encontrado', caso ocorra o erro; e imprimir o valor caso não ocorra nenhum.\n",
    "\n",
    "Teste o programa com um nome presente em uma das chaves do dicionário e com um que não esteja no dicionário para verificar a mensagem de erro."
   ],
   "metadata": {
    "collapsed": false
   },
   "id": "ce4f0953ed55f90e"
  },
  {
   "cell_type": "code",
   "execution_count": 12,
   "outputs": [
    {
     "name": "stdout",
     "output_type": "stream",
     "text": [
      "Nome não encontrado\n",
      "Programa encerrado!\n"
     ]
    }
   ],
   "source": [
    "idades = {'Júlia': 16, 'Carol': 23, 'Alberto': 19, 'Roberta': 17}\n",
    "try:\n",
    "    searchName = str(input(\"Quem voce esta procurando? \"))\n",
    "    if searchName not in idades.keys():\n",
    "        raise ValueError(\"Nome não encontrado\")\n",
    "except Exception as e:\n",
    "    print(e)\n",
    "else:\n",
    "    print(\"Informações encontradas: \\n\", searchName, \" - \",idades[searchName])\n",
    "finally:\n",
    "    print(\"Programa encerrado!\")"
   ],
   "metadata": {
    "collapsed": false,
    "ExecuteTime": {
     "end_time": "2023-11-22T14:42:43.032864400Z",
     "start_time": "2023-11-22T14:42:41.943279100Z"
    }
   },
   "id": "70e366c2c86f6dee"
  },
  {
   "cell_type": "markdown",
   "source": [
    "# Tarefa 3\n",
    "Crie uma função que recebe uma lista como parâmetro e converta todos os valores da lista para float. A função deve conter um tratamento de erro indicando o tipo de erro gerado e retornar a lista caso não tenha ocorrido nenhum erro. Por fim, deve ter a cláusula finally para imprimir o texto: 'Fim da execução da função'."
   ],
   "metadata": {
    "collapsed": false
   },
   "id": "3bc429a59de14ce1"
  },
  {
   "cell_type": "code",
   "execution_count": 160,
   "outputs": [
    {
     "name": "stdout",
     "output_type": "stream",
     "text": [
      "Conversão concluida\n",
      "Encerrando programa!\n"
     ]
    },
    {
     "data": {
      "text/plain": "[1.0, 2.0, 3.0]"
     },
     "execution_count": 160,
     "metadata": {},
     "output_type": "execute_result"
    }
   ],
   "source": [
    "def converterLista(lista: list[int]):\n",
    "    try:\n",
    "        conv = list(map(lambda x: float(x), lista))\n",
    "    except Exception as e:\n",
    "        print(\"A lista deve conter somente números\")\n",
    "    else:\n",
    "        print(\"Conversão concluida\")\n",
    "        return conv\n",
    "    finally:\n",
    "        print(\"Encerrando programa!\")\n",
    "lista = [1,2,3]\n",
    "converterLista(lista)"
   ],
   "metadata": {
    "collapsed": false,
    "ExecuteTime": {
     "end_time": "2023-11-22T17:04:59.461119300Z",
     "start_time": "2023-11-22T17:04:59.452566900Z"
    }
   },
   "id": "aa75b58f0eabb6f7"
  },
  {
   "cell_type": "code",
   "execution_count": 161,
   "outputs": [
    {
     "name": "stdout",
     "output_type": "stream",
     "text": [
      "Fim da execução da função\n"
     ]
    },
    {
     "data": {
      "text/plain": "[1.0, 2.0, 3.0]"
     },
     "execution_count": 161,
     "metadata": {},
     "output_type": "execute_result"
    }
   ],
   "source": [
    "def converte_lista(lista):\n",
    "    try:\n",
    "        nova_lista = [float(elemento) for elemento in lista]\n",
    "    except Exception as e:\n",
    "        print(type(e), f'Erro: {e}')\n",
    "    else:\n",
    "        return nova_lista\n",
    "    finally:\n",
    "        print('Fim da execução da função')\n",
    "converte_lista(lista)"
   ],
   "metadata": {
    "collapsed": false,
    "ExecuteTime": {
     "end_time": "2023-11-22T17:05:00.774743700Z",
     "start_time": "2023-11-22T17:05:00.757146300Z"
    }
   },
   "id": "6a2eac7ece2a43b9"
  },
  {
   "cell_type": "markdown",
   "source": [
    "# Tarefa 4\n",
    "Crie uma função que recebe duas listas como parâmetros e agrupe os elementos um a um das listas, formando uma lista de tuplas de 3 elementos, no qual o primeiro e segundo elemento da tupla são os valores na posição i das listas e o terceiro elemento é a soma dos valores na posição i das listas.\n",
    "\n",
    "A função deve conter um tratamento de erro indicando o tipo de erro gerado e retornar como resultado a lista de tuplas. Caso as listas enviadas como parâmetro tenham tamanhos diferentes, a função deve retornar um IndexError com a frase: 'A quantidade de elementos em cada lista é diferente.' Dados para testar a função:"
   ],
   "metadata": {
    "collapsed": false
   },
   "id": "f6ad17323391c6b4"
  },
  {
   "cell_type": "code",
   "execution_count": 63,
   "outputs": [
    {
     "name": "stdout",
     "output_type": "stream",
     "text": [
      "[(4, -4, 0), (6, 6, 12), (7, 8, 15), (9, 7, 16), (10, 9, 19)]\n",
      "Programa encerrado!\n"
     ]
    }
   ],
   "source": [
    "# Valores sem erro\n",
    "lista1 = [4,6,7,9,10]\n",
    "lista2 = [-4,6,8,7,9]\n",
    "try:\n",
    "    if len(lista1) != len(lista2):\n",
    "        raise IndexError(\"A quantidade de elementos de cada lista é diferente\")\n",
    "    soma = list(map(lambda x, y: x+y, lista1, lista2))\n",
    "except Exception as e:\n",
    "    print(\"Valores incoerentes\")\n",
    "else:\n",
    "    resultado = list(zip(lista1, lista2, soma))\n",
    "    print(resultado)\n",
    "finally:\n",
    "    print(\"Programa encerrado!\")"
   ],
   "metadata": {
    "collapsed": false,
    "ExecuteTime": {
     "end_time": "2023-11-22T15:16:02.659424Z",
     "start_time": "2023-11-22T15:16:02.644906100Z"
    }
   },
   "id": "efec36c7eb1de2d3"
  },
  {
   "cell_type": "code",
   "execution_count": 64,
   "outputs": [
    {
     "name": "stdout",
     "output_type": "stream",
     "text": [
      "Valores incoerentes\n",
      "Programa encerrado!\n"
     ]
    }
   ],
   "source": [
    "# Tamanhos diferentes\n",
    "lista1 = [4,6,7,9,10,4]\n",
    "lista2 = [-4,6,8,7,9]\n",
    "try:\n",
    "    if len(lista1) != len(lista2):\n",
    "        raise IndexError(\"A quantidade de elementos de cada lista é diferente\")\n",
    "    soma = list(map(lambda x, y: x+y, lista1, lista2))\n",
    "except Exception as e:\n",
    "    print(\"Valores incoerentes\")\n",
    "else:\n",
    "    resultado = list(zip(lista1, lista2, soma))\n",
    "    print(resultado)\n",
    "finally:\n",
    "    print(\"Programa encerrado!\")"
   ],
   "metadata": {
    "collapsed": false,
    "ExecuteTime": {
     "end_time": "2023-11-22T15:16:03.682041600Z",
     "start_time": "2023-11-22T15:16:03.667475200Z"
    }
   },
   "id": "5db0c148acc676f0"
  },
  {
   "cell_type": "code",
   "execution_count": 65,
   "outputs": [
    {
     "name": "stdout",
     "output_type": "stream",
     "text": [
      "Valores incoerentes\n",
      "Programa encerrado!\n"
     ]
    }
   ],
   "source": [
    "# Valores incoerentes\n",
    "lista1 = [4,6,7,9,'A']\n",
    "lista2 = [-4,'E',8,7,9]\n",
    "try:\n",
    "    if len(lista1) != len(lista2):\n",
    "        raise IndexError(\"A quantidade de elementos de cada lista é diferente\")\n",
    "    soma = list(map(lambda x, y: x+y, lista1, lista2))\n",
    "except Exception as e:\n",
    "    print(\"Valores incoerentes\")\n",
    "else:\n",
    "    resultado = list(zip(lista1, lista2, soma))\n",
    "    print(resultado)\n",
    "finally:\n",
    "    print(\"Programa encerrado!\")"
   ],
   "metadata": {
    "collapsed": false,
    "ExecuteTime": {
     "end_time": "2023-11-22T15:16:04.740991200Z",
     "start_time": "2023-11-22T15:16:04.693812800Z"
    }
   },
   "id": "51ffb9f446ce670a"
  },
  {
   "cell_type": "markdown",
   "source": [
    "# Aplicando Projeto\n",
    "Como desafio, você recebeu a tarefa de desenvolver um código que contabiliza as pontuações de estudantes de uma instituição de ensino de acordo com suas respostas num teste. Este código deve ser testado para um exemplo de 3 estudantes com uma lista de listas em que cada lista possui as respostas de 5 questões objetivas de cada estudante. Cada questão vale um ponto e as alternativas possíveis são A, B, C ou D.\n",
    "\n",
    "Caso alguma alternativa em um dos testes não esteja entre as alternativas possíveis, você deve lançar um ValueError com a mensagem \"A alternativa [alternativa] não é uma opção de alternativa válida\". O cálculo das 3 notas só será realizado mediante as entradas com as alternativas A, B, C ou D em todos os testes. Se não for lançada a exceção, será exibida uma lista com as notas em cada teste."
   ],
   "metadata": {
    "collapsed": false
   },
   "id": "d16192c3ff410878"
  },
  {
   "cell_type": "code",
   "execution_count": 70,
   "outputs": [],
   "source": [
    "gabarito = ['D', 'A', 'B', 'C', 'A']\n",
    "testes_sem_ex = [['D', 'A', 'B', 'C', 'A'], ['C', 'A', 'A', 'C', 'A'], ['D', 'B', 'A', 'C', 'A']]\n",
    "testes_com_ex = [['D', 'A', 'B', 'C', 'A'], ['C', 'A', 'A', 'E', 'A'], ['D', 'B', 'A', 'C', 'A']]"
   ],
   "metadata": {
    "collapsed": false,
    "ExecuteTime": {
     "end_time": "2023-11-22T16:32:47.642436100Z",
     "start_time": "2023-11-22T16:32:47.627913300Z"
    }
   },
   "id": "9d7ce71b75c1148d"
  },
  {
   "cell_type": "code",
   "execution_count": 123,
   "outputs": [
    {
     "name": "stdout",
     "output_type": "stream",
     "text": [
      "A alternativa E não é uma opção de alternativa válida\n"
     ]
    }
   ],
   "source": [
    "def verificaValidade(listas:list[list]):\n",
    "    try:\n",
    "        for lista in listas:\n",
    "            for resp in lista:\n",
    "                if resp not in ['A','B','C','D']:\n",
    "                    raise ValueError(f\"A alternativa {resp} não é uma opção de alternativa válida\")\n",
    "    except Exception as e:\n",
    "        print(e)\n",
    "        return False\n",
    "    else:\n",
    "        print(\"Notas validadas\")\n",
    "        return True\n",
    "        \n",
    "def verificaGabarito(listas:list, gabarito:list):\n",
    "    resultados = []\n",
    "    try:\n",
    "        for lista in listas:\n",
    "            resultado = list(map(lambda x, y: True if x == y else False, lista, gabarito))\n",
    "            resultados.append(resultado)\n",
    "    except Exception as e:\n",
    "        print(e)\n",
    "    else:\n",
    "        print(\"Gabarito verificado!\")\n",
    "    finally:\n",
    "        return resultados\n",
    "def calculaNota(listas:list[list]):\n",
    "    try:\n",
    "        listaFinal = []\n",
    "        for lista in listas:\n",
    "            acertos = lista.count(True)\n",
    "            nota = (acertos*100)/len(lista)\n",
    "            listaFinal.append(nota)\n",
    "        print(listaFinal) \n",
    "    except Exception as e:\n",
    "        print(e)\n",
    "\n",
    "# teste = testes_sem_ex.copy()\n",
    "teste = testes_com_ex.copy()\n",
    "if verificaValidade(teste):\n",
    "    calculaNota(verificaGabarito(teste, gabarito))"
   ],
   "metadata": {
    "collapsed": false,
    "ExecuteTime": {
     "end_time": "2023-11-22T16:52:07.922513600Z",
     "start_time": "2023-11-22T16:52:07.869302800Z"
    }
   },
   "id": "8666a9c5279ca4de"
  },
  {
   "cell_type": "markdown",
   "source": [
    "Você está trabalhando com processamento de linguagem natural (NLP) e, dessa vez, sua líder requisitou que você criasse um trecho de código que recebe uma lista com as palavras separadas de uma frase gerada pelo ChatGPT.\n",
    "\n",
    "Você precisa criar uma função que avalia cada palavra desse texto e verificar se o tratamento para retirar os símbolos de pontuação (',' '.', '!' e '?') foi realizado. Caso contrário, será lançada uma exceção do tipo ValueError apontando o 1º caso em que foi detectado o uso de uma pontuação por meio da frase \"O texto apresenta pontuações na palavra \"[palavra]\".\". Essa demanda é voltada para a análise do padrão de frases geradas pela inteligência artificial."
   ],
   "metadata": {
    "collapsed": false
   },
   "id": "c7054ed7a2034246"
  },
  {
   "cell_type": "code",
   "execution_count": 126,
   "outputs": [],
   "source": [
    "lista_tratada = ['Python', 'é', 'uma', 'linguagem', 'de', 'programação', 'poderosa', 'versátil',\n",
    "                  'e', 'fácil', 'de', 'aprender', 'utilizada', 'em', 'diversos', 'campos', 'desde',\n",
    "                  'análise', 'de', 'dados', 'até', 'inteligência', 'artificial']\n",
    "lista_nao_tratada = ['Python', 'é', 'uma', 'linguagem', 'de', 'programação', 'poderosa,', 'versátil',\n",
    "                  'e', 'fácil,', 'de', 'aprender', 'utilizada', 'em', 'diversos', 'campos,', 'desde',\n",
    "                  'análise', 'de', 'dados', 'até', 'inteligência', 'artificial!']\n"
   ],
   "metadata": {
    "collapsed": false,
    "ExecuteTime": {
     "end_time": "2023-11-22T16:59:24.157087200Z",
     "start_time": "2023-11-22T16:59:24.144053600Z"
    }
   },
   "id": "338944f3ac109546"
  },
  {
   "cell_type": "code",
   "execution_count": 130,
   "outputs": [
    {
     "name": "stdout",
     "output_type": "stream",
     "text": [
      "O Texto está em conformidade\n",
      "Encerrando o programa!\n",
      "A palavra \"poderosa,\" na posição 6 não está em conformidade\n",
      "Encerrando o programa!\n"
     ]
    }
   ],
   "source": [
    "def verificaTexto(texto:list):\n",
    "    try:\n",
    "        for pal in texto:\n",
    "            for letra in pal:\n",
    "                if letra in [\",\",\".\",\"?\",\"!\"]:\n",
    "                    index = texto.index(pal)\n",
    "                    raise ValueError(f'A palavra \"{pal}\" na posição {index} não está em conformidade')\n",
    "    except Exception as e:\n",
    "        print(e)\n",
    "    else:\n",
    "        print(\"O Texto está em conformidade\")\n",
    "    finally:\n",
    "        print('Encerrando o programa!')\n",
    "verificaTexto(lista_tratada)\n",
    "verificaTexto(lista_nao_tratada)"
   ],
   "metadata": {
    "collapsed": false,
    "ExecuteTime": {
     "end_time": "2023-11-22T17:01:12.858617600Z",
     "start_time": "2023-11-22T17:01:12.804763900Z"
    }
   },
   "id": "7add1e192e1e743a"
  }
 ],
 "metadata": {
  "kernelspec": {
   "display_name": "Python 3",
   "language": "python",
   "name": "python3"
  },
  "language_info": {
   "codemirror_mode": {
    "name": "ipython",
    "version": 2
   },
   "file_extension": ".py",
   "mimetype": "text/x-python",
   "name": "python",
   "nbconvert_exporter": "python",
   "pygments_lexer": "ipython2",
   "version": "2.7.6"
  }
 },
 "nbformat": 4,
 "nbformat_minor": 5
}
