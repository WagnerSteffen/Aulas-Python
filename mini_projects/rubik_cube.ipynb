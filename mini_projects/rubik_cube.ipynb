{
 "cells": [
  {
   "cell_type": "code",
   "execution_count": 41,
   "metadata": {},
   "outputs": [
    {
     "data": {
      "text/plain": [
       "array([['W', 'W', 'W'],\n",
       "       ['W', 'W', 'W'],\n",
       "       ['W', 'W', 'W']], dtype='<U1')"
      ]
     },
     "execution_count": 41,
     "metadata": {},
     "output_type": "execute_result"
    }
   ],
   "source": [
    "import numpy as np\n",
    "\n",
    "class cube():\n",
    "    def __init__(self):\n",
    "        self.rubiks_cube = {\n",
    "                            'top': np.full((3, 3), 'W'),     # Top face\n",
    "                            'bottom': np.full((3, 3), 'R'),  # Bottom face\n",
    "                            'left': np.full((3, 3), 'G'),    # Left face\n",
    "                            'right': np.full((3, 3), 'B'),   # Right face\n",
    "                            'front': np.full((3, 3), 'Y'),   # Front face\n",
    "                            'back': np.full((3, 3), 'O'),    # Back face\n",
    "                            }\n",
    "\n",
    "    def rotate_face_clockwise(self, face):     # Rotate a face clockwise\n",
    "        return np.rot90(self.rubiks_cube[face], -1)\n",
    "\n",
    "    def rotate_face_counterclockwise(self, face): # Rotate a face counterclockwise\n",
    "        return np.rot90(self.rubiks_cube[face], 1)\n",
    "    \n",
    "    def mix_cube(self):\n",
    "        \"\"\"\n",
    "        Here I shuffle the cube\n",
    "        \"\"\"\n",
    "        pass\n",
    "    def show_cube(self, *args):\n",
    "        \"\"\"\n",
    "        Print the cube actual state\n",
    "        \"\"\"\n",
    "        for arg in args:\n",
    "            print(self.rubiks_cube[arg])\n",
    "    \n",
    "class play():\n",
    "        \"\"\"\n",
    "        Here I make the moves of the cube\n",
    "        \"\"\"\n",
    "        \n",
    "        pass\n",
    "      \n",
    "cubo = cube()\n",
    "\n",
    "cubo.rotate_face_clockwise(\"top\")\n",
    "\n",
    "      "
   ]
  },
  {
   "cell_type": "code",
   "execution_count": 45,
   "metadata": {},
   "outputs": [
    {
     "name": "stderr",
     "output_type": "stream",
     "text": [
      "c:\\Users\\wagne\\anaconda3\\envs\\fullEnv\\lib\\site-packages\\numpy\\lib\\function_base.py:220: VisibleDeprecationWarning: Creating an ndarray from ragged nested sequences (which is a list-or-tuple of lists-or-tuples-or ndarrays with different lengths or shapes) is deprecated. If you meant to do this, you must specify 'dtype=object' when creating the ndarray.\n",
      "  m = asanyarray(m)\n"
     ]
    },
    {
     "ename": "ValueError",
     "evalue": "Axes must be different.",
     "output_type": "error",
     "traceback": [
      "\u001b[1;31m---------------------------------------------------------------------------\u001b[0m",
      "\u001b[1;31mValueError\u001b[0m                                Traceback (most recent call last)",
      "Cell \u001b[1;32mIn[45], line 10\u001b[0m\n\u001b[0;32m      1\u001b[0m rubiks_cube \u001b[39m=\u001b[39m {\n\u001b[0;32m      2\u001b[0m                             \u001b[39m'\u001b[39m\u001b[39mtop\u001b[39m\u001b[39m'\u001b[39m: np\u001b[39m.\u001b[39mfull((\u001b[39m3\u001b[39m, \u001b[39m3\u001b[39m), \u001b[39m'\u001b[39m\u001b[39mW\u001b[39m\u001b[39m'\u001b[39m),     \u001b[39m# Top face\u001b[39;00m\n\u001b[0;32m      3\u001b[0m                             \u001b[39m'\u001b[39m\u001b[39mbottom\u001b[39m\u001b[39m'\u001b[39m: np\u001b[39m.\u001b[39mfull((\u001b[39m3\u001b[39m, \u001b[39m3\u001b[39m), \u001b[39m'\u001b[39m\u001b[39mR\u001b[39m\u001b[39m'\u001b[39m),  \u001b[39m# Bottom face\u001b[39;00m\n\u001b[1;32m   (...)\u001b[0m\n\u001b[0;32m      7\u001b[0m                             \u001b[39m'\u001b[39m\u001b[39mback\u001b[39m\u001b[39m'\u001b[39m: np\u001b[39m.\u001b[39mfull((\u001b[39m3\u001b[39m, \u001b[39m3\u001b[39m), \u001b[39m'\u001b[39m\u001b[39mO\u001b[39m\u001b[39m'\u001b[39m),    \u001b[39m# Back face\u001b[39;00m\n\u001b[0;32m      8\u001b[0m                             }\n\u001b[1;32m---> 10\u001b[0m np\u001b[39m.\u001b[39;49mrot90([rubiks_cube[\u001b[39m\"\u001b[39;49m\u001b[39mfront\u001b[39;49m\u001b[39m\"\u001b[39;49m][:,\u001b[39m0\u001b[39;49m], rubiks_cube[\u001b[39m\"\u001b[39;49m\u001b[39mtop\u001b[39;49m\u001b[39m\"\u001b[39;49m][:,\u001b[39m0\u001b[39;49m],rubiks_cube[\u001b[39m\"\u001b[39;49m\u001b[39mback\u001b[39;49m\u001b[39m\"\u001b[39;49m][:,\u001b[39m0\u001b[39;49m], [rubiks_cube[\u001b[39m\"\u001b[39;49m\u001b[39mbottom\u001b[39;49m\u001b[39m\"\u001b[39;49m][:,\u001b[39m0\u001b[39;49m]]], \u001b[39m-\u001b[39;49m\u001b[39m1\u001b[39;49m)\n",
      "File \u001b[1;32m<__array_function__ internals>:180\u001b[0m, in \u001b[0;36mrot90\u001b[1;34m(*args, **kwargs)\u001b[0m\n",
      "File \u001b[1;32mc:\\Users\\wagne\\anaconda3\\envs\\fullEnv\\lib\\site-packages\\numpy\\lib\\function_base.py:223\u001b[0m, in \u001b[0;36mrot90\u001b[1;34m(m, k, axes)\u001b[0m\n\u001b[0;32m    220\u001b[0m m \u001b[39m=\u001b[39m asanyarray(m)\n\u001b[0;32m    222\u001b[0m \u001b[39mif\u001b[39;00m axes[\u001b[39m0\u001b[39m] \u001b[39m==\u001b[39m axes[\u001b[39m1\u001b[39m] \u001b[39mor\u001b[39;00m absolute(axes[\u001b[39m0\u001b[39m] \u001b[39m-\u001b[39m axes[\u001b[39m1\u001b[39m]) \u001b[39m==\u001b[39m m\u001b[39m.\u001b[39mndim:\n\u001b[1;32m--> 223\u001b[0m     \u001b[39mraise\u001b[39;00m \u001b[39mValueError\u001b[39;00m(\u001b[39m\"\u001b[39m\u001b[39mAxes must be different.\u001b[39m\u001b[39m\"\u001b[39m)\n\u001b[0;32m    225\u001b[0m \u001b[39mif\u001b[39;00m (axes[\u001b[39m0\u001b[39m] \u001b[39m>\u001b[39m\u001b[39m=\u001b[39m m\u001b[39m.\u001b[39mndim \u001b[39mor\u001b[39;00m axes[\u001b[39m0\u001b[39m] \u001b[39m<\u001b[39m \u001b[39m-\u001b[39mm\u001b[39m.\u001b[39mndim\n\u001b[0;32m    226\u001b[0m     \u001b[39mor\u001b[39;00m axes[\u001b[39m1\u001b[39m] \u001b[39m>\u001b[39m\u001b[39m=\u001b[39m m\u001b[39m.\u001b[39mndim \u001b[39mor\u001b[39;00m axes[\u001b[39m1\u001b[39m] \u001b[39m<\u001b[39m \u001b[39m-\u001b[39mm\u001b[39m.\u001b[39mndim):\n\u001b[0;32m    227\u001b[0m     \u001b[39mraise\u001b[39;00m \u001b[39mValueError\u001b[39;00m(\u001b[39m\"\u001b[39m\u001b[39mAxes=\u001b[39m\u001b[39m{}\u001b[39;00m\u001b[39m out of range for array of ndim=\u001b[39m\u001b[39m{}\u001b[39;00m\u001b[39m.\u001b[39m\u001b[39m\"\u001b[39m\n\u001b[0;32m    228\u001b[0m         \u001b[39m.\u001b[39mformat(axes, m\u001b[39m.\u001b[39mndim))\n",
      "\u001b[1;31mValueError\u001b[0m: Axes must be different."
     ]
    }
   ],
   "source": [
    "rubiks_cube = {\n",
    "                            'top': np.full((3, 3), 'W'),     # Top face\n",
    "                            'bottom': np.full((3, 3), 'R'),  # Bottom face\n",
    "                            'left': np.full((3, 3), 'G'),    # Left face\n",
    "                            'right': np.full((3, 3), 'B'),   # Right face\n",
    "                            'front': np.full((3, 3), 'Y'),   # Front face\n",
    "                            'back': np.full((3, 3), 'O'),    # Back face\n",
    "                            }\n",
    "\n",
    "np.rot90([rubiks_cube[\"front\"][:,0], rubiks_cube[\"top\"][:,0],rubiks_cube[\"back\"][:,0], [rubiks_cube[\"bottom\"][:,0]]], -1)"
   ]
  },
  {
   "cell_type": "code",
   "execution_count": 58,
   "metadata": {},
   "outputs": [
    {
     "ename": "ValueError",
     "evalue": "Axes=(2, 0) out of range for array of ndim=1.",
     "output_type": "error",
     "traceback": [
      "\u001b[1;31m---------------------------------------------------------------------------\u001b[0m",
      "\u001b[1;31mValueError\u001b[0m                                Traceback (most recent call last)",
      "Cell \u001b[1;32mIn[58], line 1\u001b[0m\n\u001b[1;32m----> 1\u001b[0m np\u001b[39m.\u001b[39;49mrot90([rubiks_cube[\u001b[39m\"\u001b[39;49m\u001b[39mfront\u001b[39;49m\u001b[39m\"\u001b[39;49m][:,\u001b[39m0\u001b[39;49m], rubiks_cube[\u001b[39m\"\u001b[39;49m\u001b[39mtop\u001b[39;49m\u001b[39m\"\u001b[39;49m][:,\u001b[39m0\u001b[39;49m],rubiks_cube[\u001b[39m\"\u001b[39;49m\u001b[39mback\u001b[39;49m\u001b[39m\"\u001b[39;49m][:,\u001b[39m0\u001b[39;49m], [rubiks_cube[\u001b[39m\"\u001b[39;49m\u001b[39mbottom\u001b[39;49m\u001b[39m\"\u001b[39;49m][:,\u001b[39m0\u001b[39;49m]]],\u001b[39m1\u001b[39;49m,(\u001b[39m2\u001b[39;49m,\u001b[39m0\u001b[39;49m))\n",
      "File \u001b[1;32m<__array_function__ internals>:180\u001b[0m, in \u001b[0;36mrot90\u001b[1;34m(*args, **kwargs)\u001b[0m\n",
      "File \u001b[1;32mc:\\Users\\wagne\\anaconda3\\envs\\fullEnv\\lib\\site-packages\\numpy\\lib\\function_base.py:227\u001b[0m, in \u001b[0;36mrot90\u001b[1;34m(m, k, axes)\u001b[0m\n\u001b[0;32m    223\u001b[0m     \u001b[39mraise\u001b[39;00m \u001b[39mValueError\u001b[39;00m(\u001b[39m\"\u001b[39m\u001b[39mAxes must be different.\u001b[39m\u001b[39m\"\u001b[39m)\n\u001b[0;32m    225\u001b[0m \u001b[39mif\u001b[39;00m (axes[\u001b[39m0\u001b[39m] \u001b[39m>\u001b[39m\u001b[39m=\u001b[39m m\u001b[39m.\u001b[39mndim \u001b[39mor\u001b[39;00m axes[\u001b[39m0\u001b[39m] \u001b[39m<\u001b[39m \u001b[39m-\u001b[39mm\u001b[39m.\u001b[39mndim\n\u001b[0;32m    226\u001b[0m     \u001b[39mor\u001b[39;00m axes[\u001b[39m1\u001b[39m] \u001b[39m>\u001b[39m\u001b[39m=\u001b[39m m\u001b[39m.\u001b[39mndim \u001b[39mor\u001b[39;00m axes[\u001b[39m1\u001b[39m] \u001b[39m<\u001b[39m \u001b[39m-\u001b[39mm\u001b[39m.\u001b[39mndim):\n\u001b[1;32m--> 227\u001b[0m     \u001b[39mraise\u001b[39;00m \u001b[39mValueError\u001b[39;00m(\u001b[39m\"\u001b[39m\u001b[39mAxes=\u001b[39m\u001b[39m{}\u001b[39;00m\u001b[39m out of range for array of ndim=\u001b[39m\u001b[39m{}\u001b[39;00m\u001b[39m.\u001b[39m\u001b[39m\"\u001b[39m\n\u001b[0;32m    228\u001b[0m         \u001b[39m.\u001b[39mformat(axes, m\u001b[39m.\u001b[39mndim))\n\u001b[0;32m    230\u001b[0m k \u001b[39m%\u001b[39m\u001b[39m=\u001b[39m \u001b[39m4\u001b[39m\n\u001b[0;32m    232\u001b[0m \u001b[39mif\u001b[39;00m k \u001b[39m==\u001b[39m \u001b[39m0\u001b[39m:\n",
      "\u001b[1;31mValueError\u001b[0m: Axes=(2, 0) out of range for array of ndim=1."
     ]
    }
   ],
   "source": [
    "np.rot90([rubiks_cube[\"front\"][:,0], rubiks_cube[\"top\"][:,0],rubiks_cube[\"back\"][:,0], [rubiks_cube[\"bottom\"][:,0]]],1,(2,0))"
   ]
  }
 ],
 "metadata": {
  "kernelspec": {
   "display_name": "fullEnv",
   "language": "python",
   "name": "python3"
  },
  "language_info": {
   "codemirror_mode": {
    "name": "ipython",
    "version": 3
   },
   "file_extension": ".py",
   "mimetype": "text/x-python",
   "name": "python",
   "nbconvert_exporter": "python",
   "pygments_lexer": "ipython3",
   "version": "3.10.9"
  },
  "orig_nbformat": 4
 },
 "nbformat": 4,
 "nbformat_minor": 2
}
