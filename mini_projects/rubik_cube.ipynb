{
 "cells": [
  {
   "cell_type": "code",
   "execution_count": 1,
   "metadata": {},
   "outputs": [
    {
     "data": {
      "text/plain": [
       "array([['W', 'W', 'W'],\n",
       "       ['W', 'W', 'W'],\n",
       "       ['W', 'W', 'W']], dtype='<U1')"
      ]
     },
     "execution_count": 1,
     "metadata": {},
     "output_type": "execute_result"
    }
   ],
   "source": [
    "import numpy as np\n",
    "\n",
    "class cube():\n",
    "    def __init__(self):\n",
    "        self.rubiks_cube = {\n",
    "                            'top': np.full((3, 3), 'W'),     # Top face\n",
    "                            'bottom': np.full((3, 3), 'R'),  # Bottom face\n",
    "                            'left': np.full((3, 3), 'G'),    # Left face\n",
    "                            'right': np.full((3, 3), 'B'),   # Right face\n",
    "                            'front': np.full((3, 3), 'Y'),   # Front face\n",
    "                            'back': np.full((3, 3), 'O'),    # Back face\n",
    "                            }\n",
    "    def rotate_face_clockwise(self, face):     # Rotate a face clockwise\n",
    "        \"\"\"\n",
    "        sub_face = np.array(self.rubiks_cube[],\n",
    "                            self.rubiks_cube[],\n",
    "                            self.rubiks_cube[],\n",
    "                            self.rubiks_cube[])\n",
    "        \"\"\"\n",
    "        return np.rot90(self.rubiks_cube[face], -1)\n",
    "\n",
    "    def rotate_face_counterclockwise(self, face): # Rotate a face counterclockwise\n",
    "        return np.rot90(self.rubiks_cube[face], 1)\n",
    "    \n",
    "    def mix_cube(self):\n",
    "        \"\"\"\n",
    "        Here I shuffle the cube\n",
    "        \"\"\"\n",
    "        pass\n",
    "    def show_cube(self, *args):\n",
    "        \"\"\"\n",
    "        Print the cube actual state\n",
    "        \"\"\"\n",
    "        for arg in args:\n",
    "            print(self.rubiks_cube[arg])\n",
    "    \n",
    "class play():\n",
    "        \"\"\"\n",
    "        Here I make the moves of the cube\n",
    "        \"\"\"\n",
    "        \n",
    "        pass\n",
    "      \n",
    "cubo = cube()\n",
    "\n",
    "cubo.rotate_face_clockwise(\"top\")\n",
    "\n",
    "      "
   ]
  },
  {
   "cell_type": "code",
   "execution_count": 67,
   "metadata": {},
   "outputs": [],
   "source": [
    "rubiks_cube = {\n",
    "            'top': np.full((3, 3), 'W'),     # Top face\n",
    "            'bottom': np.full((3, 3), 'R'),  # Bottom face\n",
    "            'left': np.full((3, 3), 'G'),    # Left face\n",
    "            'right': np.full((3, 3), 'B'),   # Right face\n",
    "            'front': np.full((3, 3), 'Y'),   # Front face\n",
    "            'back': np.full((3, 3), 'O'),    # Back face\n",
    "}"
   ]
  },
  {
   "cell_type": "code",
   "execution_count": 21,
   "metadata": {},
   "outputs": [
    {
     "name": "stdout",
     "output_type": "stream",
     "text": [
      "dict_keys(['top', 'front', 'right'])\n",
      "dict_values(['bottom', 'back', 'left'])\n",
      "top\n"
     ]
    }
   ],
   "source": [
    "oposite = {\"top\":\"bottom\", \"front\":\"back\", \"right\":\"left\"} #counterclockwise\n",
    "site = str(input(\"Digite o lado que voce quer saber o oposto: \"))\n",
    "for key, value in oposite.items():\n",
    "    if key == site:\n",
    "        non_turn = value\n",
    "        print(non_turn)\n",
    "        break\n",
    "    elif value == site:\n",
    "        non_turn = key\n",
    "        print(non_turn)\n",
    "        break"
   ]
  },
  {
   "cell_type": "code",
   "execution_count": 124,
   "metadata": {},
   "outputs": [
    {
     "data": {
      "text/plain": [
       "'\\nfacing_foward_lateral = np.array([oposite[\"top\"][2], oposite[\"right\"][:,0], oposite[\"bottom\"][0], oposite[\"left\"][:,2]]) # key\\nfacing_left_lateral = np.array([oposite[\"top\"][:,0], oposite[\"front\"][:,0], oposite[\"bottom\"][:,0], oposite[\"back\"][:,2]]) # key\\nfacing_right_lateral = np.array([oposite[\"top\"][:,2], oposite[\"back\"][:,0], oposite[\"bottom\"][:,2], oposite[\"front\"][:,2]])  # value\\nfacing_top_lateral = np.array([oposite[\"back\"][0], oposite[\"right\"][0], oposite[\"bottom\"][0], oposite[\"left\"][0]]) # key\\nfacing_bottom_lateral = np.array([oposite[\"front\"][2], oposite[\"right\"][2], oposite[\"back\"][2], oposite[\"left\"][2]]) # value\\nfacing_backwards_lateral = np.array([oposite[\"top\"][0], oposite[\"left\"][:,0], oposite[\"bottom\"][2], oposite[\"right\"][:,2]]) # value\\n'"
      ]
     },
     "execution_count": 124,
     "metadata": {},
     "output_type": "execute_result"
    }
   ],
   "source": [
    "arr = {\n",
    "                            'top': np.full((3, 3), 'T'),     # Top face\n",
    "                            'bottom': np.full((3, 3), 'Bt'),  # Bottom face\n",
    "                            'left': np.full((3, 3), 'L'),    # Left face\n",
    "                            'right': np.full((3, 3), 'R'),   # Right face\n",
    "                            'front': np.full((3, 3), 'F'),   # Front face\n",
    "                            'back': np.full((3, 3), 'B'),    # Back face\n",
    "                            }\n",
    "\"\"\"\n",
    "facing_foward_lateral = np.array([oposite[\"top\"][2], oposite[\"right\"][:,0], oposite[\"bottom\"][0], oposite[\"left\"][:,2]]) # key\n",
    "facing_left_lateral = np.array([oposite[\"top\"][:,0], oposite[\"front\"][:,0], oposite[\"bottom\"][:,0], oposite[\"back\"][:,2]]) # key\n",
    "facing_right_lateral = np.array([oposite[\"top\"][:,2], oposite[\"back\"][:,0], oposite[\"bottom\"][:,2], oposite[\"front\"][:,2]])  # value\n",
    "facing_top_lateral = np.array([oposite[\"back\"][0], oposite[\"right\"][0], oposite[\"bottom\"][0], oposite[\"left\"][0]]) # key\n",
    "facing_bottom_lateral = np.array([oposite[\"front\"][2], oposite[\"right\"][2], oposite[\"back\"][2], oposite[\"left\"][2]]) # value\n",
    "facing_backwards_lateral = np.array([oposite[\"top\"][0], oposite[\"left\"][:,0], oposite[\"bottom\"][2], oposite[\"right\"][:,2]]) # value\n",
    "\"\"\""
   ]
  },
  {
   "cell_type": "code",
   "execution_count": 125,
   "metadata": {},
   "outputs": [
    {
     "name": "stdout",
     "output_type": "stream",
     "text": [
      "====================\n",
      "top\n",
      "[['B' 'B' 'T']\n",
      " ['L' 'T' 'R']\n",
      " ['F' 'F' 'R']]\n",
      "\n",
      "====================\n",
      "bottom\n",
      "[['T' 'T' 'F']\n",
      " ['L' 'Bt' 'R']\n",
      " ['B' 'B' 'B']]\n",
      "\n",
      "====================\n",
      "left\n",
      "[['L' 'F' 'F']\n",
      " ['T' 'L' 'L']\n",
      " ['B' 'B' 'R']]\n",
      "\n",
      "====================\n",
      "right\n",
      "[['L' 'T' 'T']\n",
      " ['R' 'R' 'B']\n",
      " ['L' 'F' 'B']]\n",
      "\n",
      "====================\n",
      "front\n",
      "[['T' 'F' 'R']\n",
      " ['T' 'F' 'B']\n",
      " ['F' 'B' 'B']]\n",
      "\n",
      "====================\n",
      "back\n",
      "[['B' 'L' 'L']\n",
      " ['B' 'B' 'B']\n",
      " ['R' 'R' 'B']]\n",
      "\n"
     ]
    }
   ],
   "source": [
    "def turn_face(face, arr):\n",
    "    if face == \"front\":\n",
    "        facing_foward_lateral = np.array([arr[\"top\"][2], arr[\"right\"][:,0], arr[\"bottom\"][0], arr[\"left\"][:,2]])\n",
    "        new_lateral = np.roll(facing_foward_lateral, 1, 0)\n",
    "        arr[\"top\"][2], arr[\"right\"][:,0], arr[\"bottom\"][0], arr[\"left\"][:,2] = new_lateral\n",
    "        arr[face] = np.rot90(arr[face], -1, (0,1))\n",
    "        return arr\n",
    "    elif face == \"right\":\n",
    "        facing_right_lateral = np.array([arr[\"top\"][:,2], arr[\"back\"][:,0], arr[\"bottom\"][:,2], arr[\"front\"][:,2]])\n",
    "        new_lateral = np.roll(facing_right_lateral, 1, 0)\n",
    "        arr[\"top\"][:,2], arr[\"back\"][:,0], arr[\"bottom\"][:,2], arr[\"front\"][:,2] = new_lateral\n",
    "        arr[face] = np.rot90(arr[face], -1, (0,1))\n",
    "        return arr\n",
    "    elif face == \"left\":\n",
    "        facing_left_lateral = np.array([arr[\"top\"][:,0], arr[\"front\"][:,0], arr[\"bottom\"][:,0], arr[\"back\"][:,2]])\n",
    "        new_lateral = np.roll(facing_left_lateral, 1, 0)\n",
    "        arr[\"top\"][:,0], arr[\"front\"][:,0], arr[\"bottom\"][:,0], arr[\"back\"][:,2] = new_lateral\n",
    "        arr[face] = np.rot90(arr[face], -1, (0,1))\n",
    "        return arr\n",
    "    elif face == \"top\":\n",
    "        facing_top_lateral = np.array([arr[\"back\"][0], arr[\"right\"][0], arr[\"bottom\"][0], arr[\"left\"][0]])\n",
    "        new_lateral = np.roll(facing_top_lateral, 1, 0)\n",
    "        arr[\"back\"][0], arr[\"right\"][0], arr[\"bottom\"][0], arr[\"left\"][0] = new_lateral\n",
    "        arr[face] = np.rot90(arr[face], -1, (0,1))\n",
    "        return arr\n",
    "    elif face == \"back\":\n",
    "        facing_backwards_lateral = np.array([arr[\"top\"][0], arr[\"left\"][:,0], arr[\"bottom\"][2], arr[\"right\"][:,2]])\n",
    "        new_lateral = np.roll(facing_backwards_lateral, 1, 0)\n",
    "        arr[\"top\"][0], arr[\"left\"][:,0], arr[\"bottom\"][2], arr[\"right\"][:,2] = new_lateral\n",
    "        arr[face] = np.rot90(arr[face], -1, (0,1))\n",
    "        return arr\n",
    "    elif face == \"bottom\":\n",
    "        facing_bottom_lateral = np.array([arr[\"front\"][2], arr[\"right\"][2], arr[\"back\"][2], arr[\"left\"][2]])\n",
    "        new_lateral = np.roll(facing_bottom_lateral, 1, 0)\n",
    "        arr[\"front\"][2], arr[\"right\"][2], arr[\"back\"][2], arr[\"left\"][2] = new_lateral\n",
    "        arr[face] = np.rot90(arr[face], -1, (0,1))\n",
    "        return arr\n",
    "    else:\n",
    "        print(\"ERROR TURNING FACE!\")\n",
    "    \n",
    "        \n",
    "arr = turn_face(\"front\", arr)\n",
    "arr = turn_face(\"right\", arr)\n",
    "arr = turn_face(\"left\", arr)\n",
    "arr = turn_face(\"back\", arr)\n",
    "arr = turn_face(\"bottom\", arr)\n",
    "arr = turn_face(\"top\", arr)\n",
    "for key, value in arr.items():\n",
    "    print(\"=\"*20)\n",
    "    print(key)\n",
    "    print(value)\n",
    "    print(\"\")"
   ]
  }
 ],
 "metadata": {
  "kernelspec": {
   "display_name": "fullEnv",
   "language": "python",
   "name": "python3"
  },
  "language_info": {
   "codemirror_mode": {
    "name": "ipython",
    "version": 3
   },
   "file_extension": ".py",
   "mimetype": "text/x-python",
   "name": "python",
   "nbconvert_exporter": "python",
   "pygments_lexer": "ipython3",
   "version": "3.10.9"
  },
  "orig_nbformat": 4
 },
 "nbformat": 4,
 "nbformat_minor": 2
}
